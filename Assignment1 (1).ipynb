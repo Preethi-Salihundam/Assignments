{
 "cells": [
  {
   "cell_type": "code",
   "execution_count": 1,
   "id": "698ac05d-940d-457e-a5bd-3d5553fd7b3a",
   "metadata": {},
   "outputs": [
    {
     "name": "stdin",
     "output_type": "stream",
     "text": [
      " 5\n",
      " 4\n"
     ]
    }
   ],
   "source": [
    "'''Question1 :\n",
    "Declare two variables, `x` and `y`, and assign them integer values. Swap the\n",
    "values of these variables without using any temporary variable.'''\n",
    "a=int(input())\n",
    "b=int(input())"
   ]
  },
  {
   "cell_type": "code",
   "execution_count": 2,
   "id": "49d5a2c0-6821-4ca8-a3be-6cf2a4f22298",
   "metadata": {},
   "outputs": [
    {
     "data": {
      "text/plain": [
       "5"
      ]
     },
     "execution_count": 2,
     "metadata": {},
     "output_type": "execute_result"
    }
   ],
   "source": [
    "a"
   ]
  },
  {
   "cell_type": "code",
   "execution_count": 3,
   "id": "4738b5bd-c77c-4bc8-8e81-73d228733c8d",
   "metadata": {},
   "outputs": [
    {
     "data": {
      "text/plain": [
       "4"
      ]
     },
     "execution_count": 3,
     "metadata": {},
     "output_type": "execute_result"
    }
   ],
   "source": [
    "b"
   ]
  },
  {
   "cell_type": "code",
   "execution_count": 4,
   "id": "60f11852-952c-4720-8d57-ce4aee1f58e4",
   "metadata": {},
   "outputs": [],
   "source": [
    "#for interchanging\n",
    "a=a+b\n",
    "b=a-b\n",
    "a=a-b"
   ]
  },
  {
   "cell_type": "code",
   "execution_count": 5,
   "id": "58bbe0d6-f34c-4071-bbd5-272156fdb3d0",
   "metadata": {},
   "outputs": [
    {
     "data": {
      "text/plain": [
       "4"
      ]
     },
     "execution_count": 5,
     "metadata": {},
     "output_type": "execute_result"
    }
   ],
   "source": [
    "a"
   ]
  },
  {
   "cell_type": "code",
   "execution_count": 6,
   "id": "463beea6-fb7a-4eb8-ba94-4c94f90243d1",
   "metadata": {},
   "outputs": [
    {
     "data": {
      "text/plain": [
       "5"
      ]
     },
     "execution_count": 6,
     "metadata": {},
     "output_type": "execute_result"
    }
   ],
   "source": [
    "b"
   ]
  },
  {
   "cell_type": "code",
   "execution_count": 7,
   "id": "cf502a2f-52e8-4717-9ef7-3821bed17e0c",
   "metadata": {},
   "outputs": [],
   "source": [
    "#alternative method for interchanging\n",
    "a=a*b\n",
    "b=a//b\n",
    "a=a//b"
   ]
  },
  {
   "cell_type": "code",
   "execution_count": 8,
   "id": "9fa5ea5f-c3ef-4fea-8e3e-189f8e3bbae8",
   "metadata": {},
   "outputs": [
    {
     "data": {
      "text/plain": [
       "5"
      ]
     },
     "execution_count": 8,
     "metadata": {},
     "output_type": "execute_result"
    }
   ],
   "source": [
    "a"
   ]
  },
  {
   "cell_type": "code",
   "execution_count": 9,
   "id": "ecd140e5-a7e2-4911-9d98-5e8d2c5c7a33",
   "metadata": {},
   "outputs": [
    {
     "data": {
      "text/plain": [
       "4"
      ]
     },
     "execution_count": 9,
     "metadata": {},
     "output_type": "execute_result"
    }
   ],
   "source": [
    "b"
   ]
  },
  {
   "cell_type": "code",
   "execution_count": 11,
   "id": "a1fa3e82-10e1-4cc4-9f37-f59e318a68d7",
   "metadata": {},
   "outputs": [],
   "source": [
    "#Another method for intechainging\n",
    "a=b-a\n",
    "b=b-a\n",
    "a=b+a"
   ]
  },
  {
   "cell_type": "code",
   "execution_count": 12,
   "id": "0632506b-6b1e-41d4-99a2-7013064bb918",
   "metadata": {},
   "outputs": [
    {
     "data": {
      "text/plain": [
       "5"
      ]
     },
     "execution_count": 12,
     "metadata": {},
     "output_type": "execute_result"
    }
   ],
   "source": [
    "a"
   ]
  },
  {
   "cell_type": "code",
   "execution_count": 13,
   "id": "93d6a5f7-f61f-4fbb-bdbb-602aa2a5fa57",
   "metadata": {},
   "outputs": [
    {
     "data": {
      "text/plain": [
       "4"
      ]
     },
     "execution_count": 13,
     "metadata": {},
     "output_type": "execute_result"
    }
   ],
   "source": [
    "b"
   ]
  },
  {
   "cell_type": "code",
   "execution_count": 33,
   "id": "c8b22ac1-5690-4a81-8d5e-375109b7caed",
   "metadata": {},
   "outputs": [
    {
     "name": "stdin",
     "output_type": "stream",
     "text": [
      " 5\n",
      " 4\n"
     ]
    }
   ],
   "source": [
    "'''Question 2:\n",
    "Create a program that calculates the area of a rectangle. Take the length and\n",
    "width as inputs from the user and store them in variables. Calculate and\n",
    "display the area.'''\n",
    "l=int(input())\n",
    "w=int(input())"
   ]
  },
  {
   "cell_type": "code",
   "execution_count": 34,
   "id": "d1426eeb-58b0-4a2a-b438-0eefddf15c64",
   "metadata": {},
   "outputs": [
    {
     "data": {
      "text/plain": [
       "5"
      ]
     },
     "execution_count": 34,
     "metadata": {},
     "output_type": "execute_result"
    }
   ],
   "source": [
    "l"
   ]
  },
  {
   "cell_type": "code",
   "execution_count": 35,
   "id": "9b015cb2-7295-498f-9fb8-2beb6258ef33",
   "metadata": {},
   "outputs": [
    {
     "data": {
      "text/plain": [
       "4"
      ]
     },
     "execution_count": 35,
     "metadata": {},
     "output_type": "execute_result"
    }
   ],
   "source": [
    "w"
   ]
  },
  {
   "cell_type": "code",
   "execution_count": 36,
   "id": "693afc04-1376-4956-8404-b37f5b889630",
   "metadata": {},
   "outputs": [],
   "source": [
    "area=l*w"
   ]
  },
  {
   "cell_type": "code",
   "execution_count": 37,
   "id": "15c321d2-4a1b-442f-8d8e-46f027e614bf",
   "metadata": {},
   "outputs": [
    {
     "data": {
      "text/plain": [
       "20"
      ]
     },
     "execution_count": 37,
     "metadata": {},
     "output_type": "execute_result"
    }
   ],
   "source": [
    "area"
   ]
  },
  {
   "cell_type": "code",
   "execution_count": 41,
   "id": "060fdc33-5089-468a-9fc3-c2da465045a8",
   "metadata": {},
   "outputs": [
    {
     "name": "stdin",
     "output_type": "stream",
     "text": [
      " 100\n"
     ]
    }
   ],
   "source": [
    "'''Question 3:\n",
    "Write a Python program that converts temperatures from Celsius to\n",
    "Fahrenheit. Take the temperature in Celsius as input, store it in a variable,\n",
    "convert it to Fahrenheit, and display the result.'''\n",
    "celsius=int(input())\n",
    "\n"
   ]
  },
  {
   "cell_type": "code",
   "execution_count": 42,
   "id": "87100bc8-f5c6-4246-98a4-b7a591d0ea5c",
   "metadata": {},
   "outputs": [],
   "source": [
    "farenheit=(celsius*9//5)+32"
   ]
  },
  {
   "cell_type": "code",
   "execution_count": 43,
   "id": "cc0c3c3a-766b-4fc4-9376-e556e832a90f",
   "metadata": {},
   "outputs": [
    {
     "data": {
      "text/plain": [
       "212"
      ]
     },
     "execution_count": 43,
     "metadata": {},
     "output_type": "execute_result"
    }
   ],
   "source": [
    "farenheit"
   ]
  },
  {
   "cell_type": "code",
   "execution_count": 44,
   "id": "3b4ddc3e-48d8-4d59-a1f6-a519c5ec732b",
   "metadata": {},
   "outputs": [
    {
     "data": {
      "text/plain": [
       "8"
      ]
     },
     "execution_count": 44,
     "metadata": {},
     "output_type": "execute_result"
    }
   ],
   "source": [
    "'''Question 4:\n",
    "Write a Python program that takes a string as input and prints the length of\n",
    "the string.'''\n",
    "a=\"pwskills\"\n",
    "len(a)"
   ]
  },
  {
   "cell_type": "code",
   "execution_count": 48,
   "id": "0b599366-4353-4e11-a39b-0f56c3a1ffa3",
   "metadata": {},
   "outputs": [
    {
     "name": "stdin",
     "output_type": "stream",
     "text": [
      " Hi My name is Preethi\n"
     ]
    },
    {
     "data": {
      "text/plain": [
       "'Hi My name is Preethi'"
      ]
     },
     "execution_count": 48,
     "metadata": {},
     "output_type": "execute_result"
    }
   ],
   "source": [
    "'''Question 5:\n",
    "Create a program that takes a sentence from the user and counts the number\n",
    "of vowels (a, e, i, o, u) in the string.'''\n",
    "sentence=str(input())\n",
    "sentence"
   ]
  },
  {
   "cell_type": "code",
   "execution_count": 102,
   "id": "9d0cb8ea-0942-4e51-b20b-00a37325d498",
   "metadata": {},
   "outputs": [
    {
     "data": {
      "text/plain": [
       "7"
      ]
     },
     "execution_count": 102,
     "metadata": {},
     "output_type": "execute_result"
    }
   ],
   "source": [
    "v1=sentence.count(\"a\")\n",
    "v2=sentence.count(\"e\")\n",
    "v3=sentence.count(\"i\")\n",
    "v4=sentence.count(\"o\")\n",
    "v5=sentence.count(\"u\")\n",
    "v=v1+v2+v3+v4+v5\n",
    "v"
   ]
  },
  {
   "cell_type": "code",
   "execution_count": null,
   "id": "2084e6a5-6133-42a5-9bff-7da1152da0f6",
   "metadata": {},
   "outputs": [],
   "source": [
    "'''Question 6:\n",
    "Given a string, reverse the order of characters using string slicing and print\n",
    "the reversed string.'''"
   ]
  },
  {
   "cell_type": "code",
   "execution_count": 72,
   "id": "c125a759-c0f2-4347-b5fc-4f50c80d4560",
   "metadata": {},
   "outputs": [
    {
     "name": "stdin",
     "output_type": "stream",
     "text": [
      " PYTHON\n"
     ]
    }
   ],
   "source": [
    "String=str(input())\n",
    "\n"
   ]
  },
  {
   "cell_type": "code",
   "execution_count": 73,
   "id": "dce285e0-4c91-46ad-aab1-66cecd4f116a",
   "metadata": {},
   "outputs": [
    {
     "data": {
      "text/plain": [
       "'NOHTYP'"
      ]
     },
     "execution_count": 73,
     "metadata": {},
     "output_type": "execute_result"
    }
   ],
   "source": [
    "String[::-1]"
   ]
  },
  {
   "cell_type": "code",
   "execution_count": null,
   "id": "2f74ed20-bc73-4b14-b219-8946169d1bc4",
   "metadata": {},
   "outputs": [],
   "source": [
    "'''Question 7:\n",
    "Write a program that takes a string as input and checks if it is a palindrome\n",
    "(reads the same forwards and backwards).'''"
   ]
  },
  {
   "cell_type": "code",
   "execution_count": 74,
   "id": "8ae6d343-3d06-46d1-a554-b85367f521f5",
   "metadata": {},
   "outputs": [
    {
     "name": "stdin",
     "output_type": "stream",
     "text": [
      " madam\n"
     ]
    }
   ],
   "source": [
    "string1=str(input())\n"
   ]
  },
  {
   "cell_type": "code",
   "execution_count": 77,
   "id": "848a3278-6c63-4769-9fbd-916857056a2e",
   "metadata": {},
   "outputs": [],
   "source": [
    "string2=string1[::-1]"
   ]
  },
  {
   "cell_type": "code",
   "execution_count": 78,
   "id": "d8405bef-498d-40b4-b815-edd5c14291c5",
   "metadata": {},
   "outputs": [
    {
     "data": {
      "text/plain": [
       "'madam'"
      ]
     },
     "execution_count": 78,
     "metadata": {},
     "output_type": "execute_result"
    }
   ],
   "source": [
    "string2"
   ]
  },
  {
   "cell_type": "code",
   "execution_count": 85,
   "id": "b2f764b5-59ff-4a36-812a-dae743c2686b",
   "metadata": {},
   "outputs": [
    {
     "name": "stdout",
     "output_type": "stream",
     "text": [
      "it is a palindrome\n"
     ]
    }
   ],
   "source": [
    "if string1==string2:\n",
    "    print(\"it is a palindrome\")\n",
    "else:\n",
    "    print(\"it is not a palindrome\")\n"
   ]
  },
  {
   "cell_type": "code",
   "execution_count": null,
   "id": "d4e8166d-45ea-4d63-af22-38e9f9c9494e",
   "metadata": {},
   "outputs": [],
   "source": [
    "'''Question 8:\n",
    "Create a program that takes a string as input and removes all the spaces from\n",
    "it. Print the modified string without spaces.'''"
   ]
  },
  {
   "cell_type": "code",
   "execution_count": 86,
   "id": "d1f80a02-2a45-47be-b86a-25519b69dec3",
   "metadata": {},
   "outputs": [
    {
     "name": "stdin",
     "output_type": "stream",
     "text": [
      " Hi I am Preethi\n"
     ]
    }
   ],
   "source": [
    "string3=str(input())"
   ]
  },
  {
   "cell_type": "code",
   "execution_count": 89,
   "id": "8c610788-9121-431c-85a2-2b7378262a08",
   "metadata": {},
   "outputs": [],
   "source": [
    "string3=string3.replace(\" \",\"\")"
   ]
  },
  {
   "cell_type": "code",
   "execution_count": 90,
   "id": "e22a1522-a205-4e6f-9c5b-e353d7e3d478",
   "metadata": {},
   "outputs": [
    {
     "data": {
      "text/plain": [
       "'HiIamPreethi'"
      ]
     },
     "execution_count": 90,
     "metadata": {},
     "output_type": "execute_result"
    }
   ],
   "source": [
    "string3"
   ]
  },
  {
   "cell_type": "code",
   "execution_count": null,
   "id": "57b73544-41e7-48c1-acd1-f9504ece24cd",
   "metadata": {},
   "outputs": [],
   "source": []
  }
 ],
 "metadata": {
  "kernelspec": {
   "display_name": "Python 3 (ipykernel)",
   "language": "python",
   "name": "python3"
  },
  "language_info": {
   "codemirror_mode": {
    "name": "ipython",
    "version": 3
   },
   "file_extension": ".py",
   "mimetype": "text/x-python",
   "name": "python",
   "nbconvert_exporter": "python",
   "pygments_lexer": "ipython3",
   "version": "3.10.8"
  }
 },
 "nbformat": 4,
 "nbformat_minor": 5
}
